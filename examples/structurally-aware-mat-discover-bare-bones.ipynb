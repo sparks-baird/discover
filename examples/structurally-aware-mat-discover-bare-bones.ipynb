{
 "cells": [
  {
   "attachments": {},
   "cell_type": "markdown",
   "metadata": {
    "colab_type": "text",
    "id": "view-in-github"
   },
   "source": [
    "<a href=\"https://colab.research.google.com/github/sparks-baird/mat_discover/blob/main/examples/structurally-aware-mat-discover-bare-bones.ipynb\" target=\"_parent\"><img src=\"https://colab.research.google.com/assets/colab-badge.svg\" alt=\"Open In Colab\"/></a>"
   ]
  },
  {
   "attachments": {},
   "cell_type": "markdown",
   "metadata": {
    "id": "MMu_LzmX3LpF"
   },
   "source": [
    "# DiSCoVeR Bare Bones Script\n",
    "\n",
    "A self-contained, bare-bones example of the DiSCoVeR algorithm."
   ]
  },
  {
   "attachments": {},
   "cell_type": "markdown",
   "metadata": {
    "id": "L33XMjHe4QRS"
   },
   "source": [
    "## Installation\n",
    "\n",
    "joblib==1.1.0 temporary (no longer needed when hdbscan > 0.8.28)."
   ]
  },
  {
   "cell_type": "code",
   "execution_count": 1,
   "metadata": {
    "colab": {
     "base_uri": "https://localhost:8080/",
     "height": 1000
    },
    "id": "7Tqmbign2yq8",
    "outputId": "b9edab28-cb4e-4b5d-d7ca-76418e4eea4b"
   },
   "outputs": [],
   "source": [
    "try:\n",
    "    import google.colab\n",
    "\n",
    "    IN_COLAB = True\n",
    "    %pip install hdbscan umap-learn crabnet chem_wasserstein joblib==1.1.0 matbench m3gnet matbench-genmetrics\n",
    "except:\n",
    "    IN_COLAB = False"
   ]
  },
  {
   "attachments": {},
   "cell_type": "markdown",
   "metadata": {
    "id": "e0mvzmq43JxT"
   },
   "source": [
    "Outline\n",
    "-----\n",
    "1. Load some data\n",
    "2. CrabNet target predictions\n",
    "3. ElM2D distance calculations\n",
    "4. DensMAP embeddings and densities\n",
    "5. Train contribution to validation density\n",
    "6. Nearest neighbor properties\n",
    "7. Calculation of weighted scores"
   ]
  },
  {
   "cell_type": "code",
   "execution_count": 2,
   "metadata": {
    "id": "z1GonxVjTw-n"
   },
   "outputs": [],
   "source": [
    "dummy = True  # @param {type:\"boolean\"}"
   ]
  },
  {
   "attachments": {},
   "cell_type": "markdown",
   "metadata": {
    "id": "WdMXy0Xe3U4L"
   },
   "source": [
    "## Imports"
   ]
  },
  {
   "cell_type": "code",
   "execution_count": 3,
   "metadata": {
    "id": "JEC3cf_k2wfq"
   },
   "outputs": [],
   "source": [
    "from operator import attrgetter\n",
    "\n",
    "import numpy as np\n",
    "import pandas as pd\n",
    "import tensorflow as tf\n",
    "\n",
    "from scipy.stats import multivariate_normal\n",
    "from scipy.spatial.distance import pdist, squareform\n",
    "from sklearn.metrics import mean_squared_error\n",
    "from sklearn.neighbors import NearestNeighbors\n",
    "from sklearn.preprocessing import RobustScaler\n",
    "\n",
    "import umap\n",
    "\n",
    "from m3gnet.models import M3GNet\n",
    "from m3gnet.trainers import Trainer\n",
    "from matbench.bench import MatbenchBenchmark\n",
    "from matbench_genmetrics.core.utils.featurize import cdvae_cov_struct_fingerprints"
   ]
  },
  {
   "attachments": {},
   "cell_type": "markdown",
   "metadata": {
    "id": "FJxouWga4x0o"
   },
   "source": [
    "## 1. Data\n",
    "\n",
    "The \"index\" column helps with knowing where repeat formulas came from. `mat_discover` takes into account when repeat formulas are present in the training dataset (i.e. when calculating the train contribution to log validation density). However, this isn't addressed here; we assume each formula is unique and ignore any repeats."
   ]
  },
  {
   "cell_type": "code",
   "execution_count": 4,
   "metadata": {
    "colab": {
     "base_uri": "https://localhost:8080/"
    },
    "id": "KJdEGsxz4vaT",
    "outputId": "35349750-c45d-451d-8d87-32ca4acb82ac"
   },
   "outputs": [
    {
     "name": "stdout",
     "output_type": "stream",
     "text": [
      "Fetching matbench_log_kvrh.json.gz from https://ml.materialsproject.org/projects/matbench_log_kvrh.json.gz to c:\\Users\\sterg\\Miniconda3\\envs\\mat-discover\\lib\\site-packages\\matminer\\datasets\\matbench_log_kvrh.json.gz\n"
     ]
    },
    {
     "name": "stderr",
     "output_type": "stream",
     "text": [
      "Fetching https://ml.materialsproject.org/projects/matbench_log_kvrh.json.gz in MB: 4.175872MB [00:00, 521.88MB/s]                         \n"
     ]
    },
    {
     "name": "stdout",
     "output_type": "stream",
     "text": [
      "2022-12-16 19:32:16 INFO     Initialized benchmark 'matbench_v0.1' with 1 tasks: \n",
      "['matbench_log_kvrh']\n"
     ]
    },
    {
     "name": "stderr",
     "output_type": "stream",
     "text": [
      "INFO:matbench:Initialized benchmark 'matbench_v0.1' with 1 tasks: \n",
      "['matbench_log_kvrh']\n"
     ]
    }
   ],
   "source": [
    "mb = MatbenchBenchmark(autoload=True, subset=[\"matbench_log_kvrh\"])"
   ]
  },
  {
   "cell_type": "code",
   "execution_count": 5,
   "metadata": {
    "colab": {
     "base_uri": "https://localhost:8080/",
     "height": 394
    },
    "id": "SZAxuciqRRLw",
    "outputId": "504bd11c-d433-49ae-aa3c-624943ce7981"
   },
   "outputs": [
    {
     "data": {
      "text/html": [
       "<div>\n",
       "<style scoped>\n",
       "    .dataframe tbody tr th:only-of-type {\n",
       "        vertical-align: middle;\n",
       "    }\n",
       "\n",
       "    .dataframe tbody tr th {\n",
       "        vertical-align: top;\n",
       "    }\n",
       "\n",
       "    .dataframe thead th {\n",
       "        text-align: right;\n",
       "    }\n",
       "</style>\n",
       "<table border=\"1\" class=\"dataframe\">\n",
       "  <thead>\n",
       "    <tr style=\"text-align: right;\">\n",
       "      <th></th>\n",
       "      <th>structure</th>\n",
       "      <th>log10(K_VRH)</th>\n",
       "    </tr>\n",
       "    <tr>\n",
       "      <th>mbid</th>\n",
       "      <th></th>\n",
       "      <th></th>\n",
       "    </tr>\n",
       "  </thead>\n",
       "  <tbody>\n",
       "    <tr>\n",
       "      <th>mb-log-kvrh-00001</th>\n",
       "      <td>[[0. 0. 0.] Ca, [1.37728887 1.57871271 3.73949...</td>\n",
       "      <td>1.707570</td>\n",
       "    </tr>\n",
       "    <tr>\n",
       "      <th>mb-log-kvrh-00002</th>\n",
       "      <td>[[3.14048493 1.09300401 1.64101398] Mg, [0.625...</td>\n",
       "      <td>1.633468</td>\n",
       "    </tr>\n",
       "    <tr>\n",
       "      <th>mb-log-kvrh-00003</th>\n",
       "      <td>[[ 2.06884519  2.40627241 -0.45891585] Si, [1....</td>\n",
       "      <td>1.908485</td>\n",
       "    </tr>\n",
       "    <tr>\n",
       "      <th>mb-log-kvrh-00004</th>\n",
       "      <td>[[2.06428082 0.         2.06428082] Pd, [0.   ...</td>\n",
       "      <td>2.117271</td>\n",
       "    </tr>\n",
       "    <tr>\n",
       "      <th>mb-log-kvrh-00005</th>\n",
       "      <td>[[3.09635262 1.0689416  1.53602403] Mg, [0.593...</td>\n",
       "      <td>1.690196</td>\n",
       "    </tr>\n",
       "    <tr>\n",
       "      <th>mb-log-kvrh-00007</th>\n",
       "      <td>[[1.74050602 1.74050602 1.74050602] Pd, [0. 0....</td>\n",
       "      <td>1.995635</td>\n",
       "    </tr>\n",
       "    <tr>\n",
       "      <th>mb-log-kvrh-00008</th>\n",
       "      <td>[[0. 0. 0.] Pd, [0.         0.         2.87508...</td>\n",
       "      <td>1.991226</td>\n",
       "    </tr>\n",
       "    <tr>\n",
       "      <th>mb-log-kvrh-00009</th>\n",
       "      <td>[[0.         0.         1.74916285] Si, [3.211...</td>\n",
       "      <td>2.320146</td>\n",
       "    </tr>\n",
       "    <tr>\n",
       "      <th>mb-log-kvrh-00011</th>\n",
       "      <td>[[0.         2.11129254 2.11129254] Al, [2.111...</td>\n",
       "      <td>1.886491</td>\n",
       "    </tr>\n",
       "    <tr>\n",
       "      <th>mb-log-kvrh-00012</th>\n",
       "      <td>[[0.       0.       3.549319] N, [0. 0. 0.] N,...</td>\n",
       "      <td>1.113943</td>\n",
       "    </tr>\n",
       "  </tbody>\n",
       "</table>\n",
       "</div>"
      ],
      "text/plain": [
       "                                                           structure  \\\n",
       "mbid                                                                   \n",
       "mb-log-kvrh-00001  [[0. 0. 0.] Ca, [1.37728887 1.57871271 3.73949...   \n",
       "mb-log-kvrh-00002  [[3.14048493 1.09300401 1.64101398] Mg, [0.625...   \n",
       "mb-log-kvrh-00003  [[ 2.06884519  2.40627241 -0.45891585] Si, [1....   \n",
       "mb-log-kvrh-00004  [[2.06428082 0.         2.06428082] Pd, [0.   ...   \n",
       "mb-log-kvrh-00005  [[3.09635262 1.0689416  1.53602403] Mg, [0.593...   \n",
       "mb-log-kvrh-00007  [[1.74050602 1.74050602 1.74050602] Pd, [0. 0....   \n",
       "mb-log-kvrh-00008  [[0. 0. 0.] Pd, [0.         0.         2.87508...   \n",
       "mb-log-kvrh-00009  [[0.         0.         1.74916285] Si, [3.211...   \n",
       "mb-log-kvrh-00011  [[0.         2.11129254 2.11129254] Al, [2.111...   \n",
       "mb-log-kvrh-00012  [[0.       0.       3.549319] N, [0. 0. 0.] N,...   \n",
       "\n",
       "                   log10(K_VRH)  \n",
       "mbid                             \n",
       "mb-log-kvrh-00001      1.707570  \n",
       "mb-log-kvrh-00002      1.633468  \n",
       "mb-log-kvrh-00003      1.908485  \n",
       "mb-log-kvrh-00004      2.117271  \n",
       "mb-log-kvrh-00005      1.690196  \n",
       "mb-log-kvrh-00007      1.995635  \n",
       "mb-log-kvrh-00008      1.991226  \n",
       "mb-log-kvrh-00009      2.320146  \n",
       "mb-log-kvrh-00011      1.886491  \n",
       "mb-log-kvrh-00012      1.113943  "
      ]
     },
     "execution_count": 5,
     "metadata": {},
     "output_type": "execute_result"
    }
   ],
   "source": [
    "task = list(mb.tasks)[0]\n",
    "fold = 0\n",
    "train_inputs, train_outputs = task.get_train_and_val_data(fold)\n",
    "test_inputs, test_outputs = task.get_test_data(fold, include_target=True)\n",
    "if dummy:\n",
    "    train_inputs = train_inputs.head(10)\n",
    "    train_outputs = train_outputs.head(10)\n",
    "    test_inputs = test_inputs.head(5)\n",
    "    test_outputs = test_outputs.head(5)\n",
    "train_df = pd.concat((train_inputs, train_outputs), axis=1)\n",
    "val_df = pd.concat((test_inputs, test_outputs), axis=1)\n",
    "train_df"
   ]
  },
  {
   "attachments": {},
   "cell_type": "markdown",
   "metadata": {
    "id": "S-MXvBpO3GTc"
   },
   "source": [
    "## 2. MegNet predictions"
   ]
  },
  {
   "cell_type": "code",
   "execution_count": 6,
   "metadata": {
    "colab": {
     "base_uri": "https://localhost:8080/"
    },
    "id": "G80iQPEM217-",
    "outputId": "f05a1ba7-588c-46a3-f706-9ab096f143a5"
   },
   "outputs": [
    {
     "name": "stdout",
     "output_type": "stream",
     "text": [
      "Epoch 1/2\n",
      "1/1 [==============================] - 7s 7s/step - loss: 2.2435e-04\n",
      "Epoch 2/2\n",
      "1/1 [==============================] - 0s 207ms/step - loss: 6.1683e-04\n",
      "val RMSE:  1.7130347920043694\n"
     ]
    }
   ],
   "source": [
    "m3gnet = M3GNet(is_intensive=False)\n",
    "trainer = Trainer(m3gnet, tf.keras.optimizers.Adam(1e-3))\n",
    "\n",
    "epochs = 1000 if not dummy else 2\n",
    "\n",
    "trainer.train(\n",
    "    train_inputs.tolist(),\n",
    "    train_outputs.tolist(),\n",
    "    fit_per_element_offset=True,\n",
    "    save_checkpoint=False,\n",
    "    epochs=epochs,\n",
    ")\n",
    "\n",
    "train_pred = trainer.model.predict_structures(train_inputs)\n",
    "val_pred = trainer.model.predict_structures(test_inputs)\n",
    "\n",
    "pred = np.concatenate((train_pred, val_pred), axis=0)\n",
    "\n",
    "val_rmse = mean_squared_error(test_outputs, val_pred, squared=False)\n",
    "\n",
    "print(\"val RMSE: \", val_rmse)"
   ]
  },
  {
   "attachments": {},
   "cell_type": "markdown",
   "metadata": {
    "id": "G0MkF2vC5ux7"
   },
   "source": [
    "### Data Preparation"
   ]
  },
  {
   "cell_type": "code",
   "execution_count": 7,
   "metadata": {
    "colab": {
     "base_uri": "https://localhost:8080/"
    },
    "id": "YemCz5L75tY2",
    "outputId": "83945805-5c99-473d-c92a-f35bb0698606"
   },
   "outputs": [
    {
     "name": "stdout",
     "output_type": "stream",
     "text": [
      "mbid\n",
      "mb-log-kvrh-00001    [[0. 0. 0.] Ca, [1.37728887 1.57871271 3.73949...\n",
      "mb-log-kvrh-00002    [[3.14048493 1.09300401 1.64101398] Mg, [0.625...\n",
      "mb-log-kvrh-00003    [[ 2.06884519  2.40627241 -0.45891585] Si, [1....\n",
      "mb-log-kvrh-00004    [[2.06428082 0.         2.06428082] Pd, [0.   ...\n",
      "mb-log-kvrh-00005    [[3.09635262 1.0689416  1.53602403] Mg, [0.593...\n",
      "mb-log-kvrh-00007    [[1.74050602 1.74050602 1.74050602] Pd, [0. 0....\n",
      "mb-log-kvrh-00008    [[0. 0. 0.] Pd, [0.         0.         2.87508...\n",
      "mb-log-kvrh-00009    [[0.         0.         1.74916285] Si, [3.211...\n",
      "mb-log-kvrh-00011    [[0.         2.11129254 2.11129254] Al, [2.111...\n",
      "mb-log-kvrh-00012    [[0.       0.       3.549319] N, [0. 0. 0.] N,...\n",
      "mb-log-kvrh-00006    [[0. 0. 0.] Al, [1.41205261 1.41205261 2.03235...\n",
      "mb-log-kvrh-00010    [[0.48499983 1.33821071 4.95913808] O, [2.3796...\n",
      "mb-log-kvrh-00040    [[-1.51512416e-04  5.18156098e-05  6.38120505e...\n",
      "mb-log-kvrh-00047    [[1.6531378  0.98950681 2.98949123] F, [4.0229...\n",
      "mb-log-kvrh-00049    [[-0.85832332  4.5043339   2.42315696] Li, [-0...\n",
      "Name: structure, dtype: object mbid\n",
      "mb-log-kvrh-00001    1.707570\n",
      "mb-log-kvrh-00002    1.633468\n",
      "mb-log-kvrh-00003    1.908485\n",
      "mb-log-kvrh-00004    2.117271\n",
      "mb-log-kvrh-00005    1.690196\n",
      "mb-log-kvrh-00007    1.995635\n",
      "mb-log-kvrh-00008    1.991226\n",
      "mb-log-kvrh-00009    2.320146\n",
      "mb-log-kvrh-00011    1.886491\n",
      "mb-log-kvrh-00012    1.113943\n",
      "mb-log-kvrh-00006    2.060698\n",
      "mb-log-kvrh-00010    1.845098\n",
      "mb-log-kvrh-00040    1.886491\n",
      "mb-log-kvrh-00047    1.857332\n",
      "mb-log-kvrh-00049    2.021189\n",
      "Name: log10(K_VRH), dtype: float64\n"
     ]
    }
   ],
   "source": [
    "all_structures = pd.concat((train_inputs, test_inputs), axis=0)\n",
    "all_target = pd.concat((train_outputs, test_outputs), axis=0)\n",
    "print(all_structures, all_target)"
   ]
  },
  {
   "cell_type": "code",
   "execution_count": 8,
   "metadata": {
    "colab": {
     "base_uri": "https://localhost:8080/"
    },
    "id": "rWcEYIU36i8N",
    "outputId": "3e05c9ad-4e3d-48a9-aa24-5738ce76a5c6"
   },
   "outputs": [
    {
     "name": "stdout",
     "output_type": "stream",
     "text": [
      "[0 1 2 3 4 5 6 7 8 9] [10 11 12 13 14]\n"
     ]
    }
   ],
   "source": [
    "ntrain, nval = len(train_inputs), len(test_inputs)\n",
    "ntot = ntrain + nval\n",
    "train_ids, val_ids = np.arange(ntrain), np.arange(ntrain, ntot)\n",
    "print(train_ids, val_ids)"
   ]
  },
  {
   "attachments": {},
   "cell_type": "markdown",
   "metadata": {
    "id": "GRY0BlXP3EUj"
   },
   "source": [
    "## 3. Distance calculations"
   ]
  },
  {
   "cell_type": "code",
   "execution_count": 9,
   "metadata": {
    "colab": {
     "base_uri": "https://localhost:8080/"
    },
    "id": "tMHpvhHR24ES",
    "outputId": "2f90d3f5-237d-49c2-c9b8-128de6ff8a9a"
   },
   "outputs": [
    {
     "name": "stderr",
     "output_type": "stream",
     "text": [
      "c:\\Users\\sterg\\Miniconda3\\envs\\mat-discover\\lib\\site-packages\\numpy\\core\\fromnumeric.py:3474: RuntimeWarning: Mean of empty slice.\n",
      "  return _methods._mean(a, axis=axis, dtype=dtype,\n",
      "c:\\Users\\sterg\\Miniconda3\\envs\\mat-discover\\lib\\site-packages\\numpy\\core\\_methods.py:189: RuntimeWarning: invalid value encountered in double_scalars\n",
      "  ret = ret.dtype.type(ret / rcount)\n",
      "WARNING:matbench_genmetrics.utils.featurize:15 structures partially failed to featurize, with on average nan site failure rate per failed structure, and where failed sites were ignored during averaging.\n"
     ]
    }
   ],
   "source": [
    "struct_fingerprints = cdvae_cov_struct_fingerprints(all_structures)"
   ]
  },
  {
   "cell_type": "code",
   "execution_count": 10,
   "metadata": {
    "colab": {
     "base_uri": "https://localhost:8080/"
    },
    "id": "RZtppr5qWhW7",
    "outputId": "0f76e4c9-983f-497c-f2ad-e6530eef27a1"
   },
   "outputs": [
    {
     "data": {
      "text/plain": [
       "array([[0.        , 0.37025253, 0.19258748, 1.06530877, 0.31112306,\n",
       "        1.24170994, 0.98408477, 0.35741901, 1.07179753, 1.08145982,\n",
       "        1.15785023, 0.78497011, 1.2712176 , 0.88045732, 1.48451359],\n",
       "       [0.37025253, 0.        , 0.53102321, 1.06328827, 0.0884027 ,\n",
       "        1.30941935, 1.04161895, 0.41502179, 1.11413855, 1.12325477,\n",
       "        1.31709812, 0.74646778, 0.91881587, 0.94413839, 1.50972363],\n",
       "       [0.19258748, 0.53102321, 0.        , 1.11019835, 0.46818642,\n",
       "        1.16590386, 0.94867758, 0.44785563, 1.10261709, 1.07326166,\n",
       "        1.13139612, 0.82315499, 1.4344582 , 0.86120683, 1.48054974],\n",
       "       [1.06530877, 1.06328827, 1.11019835, 0.        , 1.0618268 ,\n",
       "        1.75996989, 1.49708071, 1.06154691, 0.21425931, 1.50993465,\n",
       "        0.86405008, 1.29011082, 1.41253773, 1.41565423, 1.81439484],\n",
       "       [0.31112306, 0.0884027 , 0.46818642, 1.0618268 , 0.        ,\n",
       "        1.2912273 , 1.01418538, 0.36585736, 1.10527837, 1.09562808,\n",
       "        1.28888935, 0.72708563, 0.98691093, 0.91229852, 1.49031238],\n",
       "       [1.24170994, 1.30941935, 1.16590386, 1.75996989, 1.2912273 ,\n",
       "        0.        , 1.2265002 , 1.37034431, 1.77120749, 1.58663809,\n",
       "        1.72668805, 1.43835042, 1.88495421, 1.39558032, 1.88703476],\n",
       "       [0.98408477, 1.04161895, 0.94867758, 1.49708071, 1.01418538,\n",
       "        1.2265002 , 0.        , 0.95986851, 1.51027567, 1.06497585,\n",
       "        1.54226845, 0.93106354, 1.6421964 , 1.11661736, 0.7731842 ],\n",
       "       [0.35741901, 0.41502179, 0.44785563, 1.06154691, 0.36585736,\n",
       "        1.37034431, 0.95986851, 0.        , 1.09777248, 1.00569196,\n",
       "        1.27632132, 0.68351193, 1.19138826, 0.84246091, 1.39854765],\n",
       "       [1.07179753, 1.11413855, 1.10261709, 0.21425931, 1.10527837,\n",
       "        1.77120749, 1.51027567, 1.09777248, 0.        , 1.5218474 ,\n",
       "        0.66271191, 1.32160461, 1.52671247, 1.43052077, 1.82845285],\n",
       "       [1.08145982, 1.12325477, 1.07326166, 1.50993465, 1.09562808,\n",
       "        1.58663809, 1.06497585, 1.00569196, 1.5218474 , 0.        ,\n",
       "        1.59400342, 0.82299785, 1.64549895, 1.05242895, 1.34239476],\n",
       "       [1.15785023, 1.31709812, 1.13139612, 0.86405008, 1.28888935,\n",
       "        1.72668805, 1.54226845, 1.27632132, 0.66271191, 1.59400342,\n",
       "        0.        , 1.45855294, 1.90041498, 1.49388929, 1.90122352],\n",
       "       [0.78497011, 0.74646778, 0.82315499, 1.29011082, 0.72708563,\n",
       "        1.43835042, 0.93106354, 0.68351193, 1.32160461, 0.82299785,\n",
       "        1.45855294, 0.        , 1.2734739 , 0.52830076, 1.29102196],\n",
       "       [1.2712176 , 0.91881587, 1.4344582 , 1.41253773, 0.98691093,\n",
       "        1.88495421, 1.6421964 , 1.19138826, 1.52671247, 1.64549895,\n",
       "        1.90041498, 1.2734739 , 0.        , 1.55928286, 1.93296967],\n",
       "       [0.88045732, 0.94413839, 0.86120683, 1.41565423, 0.91229852,\n",
       "        1.39558032, 1.11661736, 0.84246091, 1.43052077, 1.05242895,\n",
       "        1.49388929, 0.52830076, 1.55928286, 0.        , 1.55924093],\n",
       "       [1.48451359, 1.50972363, 1.48054974, 1.81439484, 1.49031238,\n",
       "        1.88703476, 0.7731842 , 1.39854765, 1.82845285, 1.34239476,\n",
       "        1.90122352, 1.29102196, 1.93296967, 1.55924093, 0.        ]])"
      ]
     },
     "execution_count": 10,
     "metadata": {},
     "output_type": "execute_result"
    }
   ],
   "source": [
    "dm = squareform(pdist(struct_fingerprints))\n",
    "dm"
   ]
  },
  {
   "attachments": {},
   "cell_type": "markdown",
   "metadata": {
    "id": "adO7u1h93CnD"
   },
   "source": [
    "## 4. DensMAP embeddings and densities"
   ]
  },
  {
   "cell_type": "code",
   "execution_count": 11,
   "metadata": {
    "colab": {
     "base_uri": "https://localhost:8080/"
    },
    "id": "XyptjthO3BvT",
    "outputId": "1eeae13b-4e09-46c2-e097-15f9096ae385"
   },
   "outputs": [
    {
     "name": "stderr",
     "output_type": "stream",
     "text": [
      "c:\\Users\\sterg\\Miniconda3\\envs\\mat-discover\\lib\\site-packages\\umap\\umap_.py:1780: UserWarning: using precomputed metric; inverse_transform will be unavailable\n",
      "  warn(\"using precomputed metric; inverse_transform will be unavailable\")\n",
      "c:\\Users\\sterg\\Miniconda3\\envs\\mat-discover\\lib\\site-packages\\umap\\umap_.py:2344: UserWarning: n_neighbors is larger than the dataset size; truncating to X.shape[0] - 1\n",
      "  warn(\n"
     ]
    },
    {
     "data": {
      "text/plain": [
       "array([0.67982185, 0.7119372 , 0.7753536 , 1.1853292 , 0.6833535 ,\n",
       "       1.8067325 , 1.1368273 , 0.64889264, 1.1324492 , 1.2874413 ,\n",
       "       1.403293  , 0.8394198 , 1.537061  , 1.0953219 , 1.8652128 ],\n",
       "      dtype=float32)"
      ]
     },
     "execution_count": 11,
     "metadata": {},
     "output_type": "execute_result"
    }
   ],
   "source": [
    "umap_trans = umap.UMAP(\n",
    "    densmap=True,\n",
    "    output_dens=True,\n",
    "    dens_lambda=1.0,\n",
    "    n_neighbors=30,\n",
    "    min_dist=0,\n",
    "    n_components=2,\n",
    "    metric=\"precomputed\",\n",
    "    random_state=42,\n",
    "    low_memory=False,\n",
    ").fit(dm)\n",
    "\n",
    "\n",
    "# Extract densMAP embedding and radii\n",
    "umap_emb, r_orig_log, r_emb_log = attrgetter(\"embedding_\", \"rad_orig_\", \"rad_emb_\")(\n",
    "    umap_trans\n",
    ")\n",
    "umap_r_orig = np.exp(r_orig_log)\n",
    "umap_r_orig"
   ]
  },
  {
   "attachments": {},
   "cell_type": "markdown",
   "metadata": {
    "id": "JXcjLXuy2_m7"
   },
   "source": [
    "## 5. Train contribution to validation density"
   ]
  },
  {
   "cell_type": "code",
   "execution_count": 12,
   "metadata": {
    "colab": {
     "base_uri": "https://localhost:8080/",
     "height": 237
    },
    "id": "wbnQlLbk25kb",
    "outputId": "2d8b37a2-f2d5-454d-d9ca-663ae8601fc4"
   },
   "outputs": [
    {
     "data": {
      "text/html": [
       "<div>\n",
       "<style scoped>\n",
       "    .dataframe tbody tr th:only-of-type {\n",
       "        vertical-align: middle;\n",
       "    }\n",
       "\n",
       "    .dataframe tbody tr th {\n",
       "        vertical-align: top;\n",
       "    }\n",
       "\n",
       "    .dataframe thead th {\n",
       "        text-align: right;\n",
       "    }\n",
       "</style>\n",
       "<table border=\"1\" class=\"dataframe\">\n",
       "  <thead>\n",
       "    <tr style=\"text-align: right;\">\n",
       "      <th></th>\n",
       "      <th>structure</th>\n",
       "      <th>log10(K_VRH)</th>\n",
       "      <th>emb</th>\n",
       "      <th>r_orig</th>\n",
       "      <th>dens</th>\n",
       "    </tr>\n",
       "    <tr>\n",
       "      <th>mbid</th>\n",
       "      <th></th>\n",
       "      <th></th>\n",
       "      <th></th>\n",
       "      <th></th>\n",
       "      <th></th>\n",
       "    </tr>\n",
       "  </thead>\n",
       "  <tbody>\n",
       "    <tr>\n",
       "      <th>mb-log-kvrh-00006</th>\n",
       "      <td>[[0. 0. 0.] Al, [1.41205261 1.41205261 2.03235...</td>\n",
       "      <td>2.060698</td>\n",
       "      <td>(-7.3605275, -1.666015)</td>\n",
       "      <td>1.403293</td>\n",
       "      <td>0.565435</td>\n",
       "    </tr>\n",
       "    <tr>\n",
       "      <th>mb-log-kvrh-00010</th>\n",
       "      <td>[[0.48499983 1.33821071 4.95913808] O, [2.3796...</td>\n",
       "      <td>1.845098</td>\n",
       "      <td>(-9.373133, -2.3268223)</td>\n",
       "      <td>0.839420</td>\n",
       "      <td>0.994991</td>\n",
       "    </tr>\n",
       "    <tr>\n",
       "      <th>mb-log-kvrh-00040</th>\n",
       "      <td>[[-1.51512416e-04  5.18156098e-05  6.38120505e...</td>\n",
       "      <td>1.886491</td>\n",
       "      <td>(-9.81229, -1.0935618)</td>\n",
       "      <td>1.537061</td>\n",
       "      <td>0.471091</td>\n",
       "    </tr>\n",
       "    <tr>\n",
       "      <th>mb-log-kvrh-00047</th>\n",
       "      <td>[[1.6531378  0.98950681 2.98949123] F, [4.0229...</td>\n",
       "      <td>1.857332</td>\n",
       "      <td>(-9.244123, -2.9060686)</td>\n",
       "      <td>1.095322</td>\n",
       "      <td>0.741794</td>\n",
       "    </tr>\n",
       "    <tr>\n",
       "      <th>mb-log-kvrh-00049</th>\n",
       "      <td>[[-0.85832332  4.5043339   2.42315696] Li, [-0...</td>\n",
       "      <td>2.021189</td>\n",
       "      <td>(-9.5376625, -0.34832537)</td>\n",
       "      <td>1.865213</td>\n",
       "      <td>0.254454</td>\n",
       "    </tr>\n",
       "  </tbody>\n",
       "</table>\n",
       "</div>"
      ],
      "text/plain": [
       "                                                           structure  \\\n",
       "mbid                                                                   \n",
       "mb-log-kvrh-00006  [[0. 0. 0.] Al, [1.41205261 1.41205261 2.03235...   \n",
       "mb-log-kvrh-00010  [[0.48499983 1.33821071 4.95913808] O, [2.3796...   \n",
       "mb-log-kvrh-00040  [[-1.51512416e-04  5.18156098e-05  6.38120505e...   \n",
       "mb-log-kvrh-00047  [[1.6531378  0.98950681 2.98949123] F, [4.0229...   \n",
       "mb-log-kvrh-00049  [[-0.85832332  4.5043339   2.42315696] Li, [-0...   \n",
       "\n",
       "                   log10(K_VRH)                        emb    r_orig      dens  \n",
       "mbid                                                                            \n",
       "mb-log-kvrh-00006      2.060698    (-7.3605275, -1.666015)  1.403293  0.565435  \n",
       "mb-log-kvrh-00010      1.845098    (-9.373133, -2.3268223)  0.839420  0.994991  \n",
       "mb-log-kvrh-00040      1.886491     (-9.81229, -1.0935618)  1.537061  0.471091  \n",
       "mb-log-kvrh-00047      1.857332    (-9.244123, -2.9060686)  1.095322  0.741794  \n",
       "mb-log-kvrh-00049      2.021189  (-9.5376625, -0.34832537)  1.865213  0.254454  "
      ]
     },
     "execution_count": 12,
     "metadata": {},
     "output_type": "execute_result"
    }
   ],
   "source": [
    "train_emb = umap_emb[:ntrain]\n",
    "train_r_orig = umap_r_orig[:ntrain]\n",
    "val_emb = umap_emb[ntrain:]\n",
    "val_r_orig = umap_r_orig[ntrain:]\n",
    "\n",
    "train_df[\"emb\"] = list(map(tuple, train_emb))\n",
    "train_df[\"r_orig\"] = train_r_orig\n",
    "val_df[\"emb\"] = list(map(tuple, val_emb))\n",
    "val_df[\"r_orig\"] = val_r_orig\n",
    "\n",
    "\n",
    "def my_mvn(mu_x, mu_y, r):\n",
    "    \"\"\"Calculate multivariate normal at (mu_x, mu_y) with constant radius, r.\"\"\"\n",
    "    return multivariate_normal([mu_x, mu_y], [[r, 0], [0, r]])\n",
    "\n",
    "\n",
    "mvn_list = list(map(my_mvn, train_emb[:, 0], train_emb[:, 1], train_r_orig))\n",
    "pdf_list = [mvn.pdf(val_emb) for mvn in mvn_list]\n",
    "val_dens = np.sum(pdf_list, axis=0)\n",
    "val_log_dens = np.log(val_dens)\n",
    "\n",
    "val_df[\"dens\"] = val_dens\n",
    "val_df"
   ]
  },
  {
   "attachments": {},
   "cell_type": "markdown",
   "metadata": {
    "id": "qQiTahYJ5-kC"
   },
   "source": [
    "## 6. Nearest neighbor calculations"
   ]
  },
  {
   "cell_type": "code",
   "execution_count": 13,
   "metadata": {
    "id": "O60dzXbB26Kc"
   },
   "outputs": [],
   "source": [
    "r_strength = 1.5\n",
    "mean, std = (np.mean(dm), np.std(dm))\n",
    "radius = mean - r_strength * std\n",
    "n_neighbors = 10\n",
    "NN = NearestNeighbors(radius=radius, n_neighbors=n_neighbors, metric=\"precomputed\")\n",
    "NN.fit(dm)\n",
    "\n",
    "neigh_ind = NN.kneighbors(return_distance=False)\n",
    "num_neigh = n_neighbors * np.ones(neigh_ind.shape[0])\n",
    "\n",
    "neigh_target = np.array([pred[ind] for ind in neigh_ind], dtype=\"object\")\n",
    "k_neigh_avg_targ = np.array(\n",
    "    [np.mean(t) if len(t) > 0 else float(0) for t in neigh_target]\n",
    ")\n",
    "\n",
    "val_k_neigh_avg = k_neigh_avg_targ[val_ids]"
   ]
  },
  {
   "attachments": {},
   "cell_type": "markdown",
   "metadata": {
    "id": "92FfjLOt6AY5"
   },
   "source": [
    "## 7. Weighted scores"
   ]
  },
  {
   "cell_type": "code",
   "execution_count": 14,
   "metadata": {
    "colab": {
     "base_uri": "https://localhost:8080/",
     "height": 206
    },
    "id": "TEPgon4p27J4",
    "outputId": "715f1fb2-0bab-41c3-a078-81a9a48036d4"
   },
   "outputs": [
    {
     "data": {
      "text/html": [
       "<div>\n",
       "<style scoped>\n",
       "    .dataframe tbody tr th:only-of-type {\n",
       "        vertical-align: middle;\n",
       "    }\n",
       "\n",
       "    .dataframe tbody tr th {\n",
       "        vertical-align: top;\n",
       "    }\n",
       "\n",
       "    .dataframe thead th {\n",
       "        text-align: right;\n",
       "    }\n",
       "</style>\n",
       "<table border=\"1\" class=\"dataframe\">\n",
       "  <thead>\n",
       "    <tr style=\"text-align: right;\">\n",
       "      <th></th>\n",
       "      <th>dens</th>\n",
       "      <th>peak</th>\n",
       "    </tr>\n",
       "  </thead>\n",
       "  <tbody>\n",
       "    <tr>\n",
       "      <th>3</th>\n",
       "      <td>1.521991</td>\n",
       "      <td>4.471811</td>\n",
       "    </tr>\n",
       "    <tr>\n",
       "      <th>4</th>\n",
       "      <td>0.787389</td>\n",
       "      <td>0.736224</td>\n",
       "    </tr>\n",
       "    <tr>\n",
       "      <th>2</th>\n",
       "      <td>0.000000</td>\n",
       "      <td>-0.263776</td>\n",
       "    </tr>\n",
       "    <tr>\n",
       "      <th>0</th>\n",
       "      <td>-0.212611</td>\n",
       "      <td>-0.321049</td>\n",
       "    </tr>\n",
       "    <tr>\n",
       "      <th>1</th>\n",
       "      <td>-1.003352</td>\n",
       "      <td>0.000000</td>\n",
       "    </tr>\n",
       "  </tbody>\n",
       "</table>\n",
       "</div>"
      ],
      "text/plain": [
       "       dens      peak\n",
       "3  1.521991  4.471811\n",
       "4  0.787389  0.736224\n",
       "2  0.000000 -0.263776\n",
       "0 -0.212611 -0.321049\n",
       "1 -1.003352  0.000000"
      ]
     },
     "execution_count": 14,
     "metadata": {},
     "output_type": "execute_result"
    }
   ],
   "source": [
    "# deal with warning related to ravel, maybe Colab-specific?\n",
    "from tensorflow.python.ops.numpy_ops import np_config\n",
    "\n",
    "np_config.enable_numpy_behavior()\n",
    "\n",
    "\n",
    "def weighted_score(pred, proxy, pred_weight=1.0, proxy_weight=1.0):\n",
    "    \"\"\"Calculate weighted discovery score using the predicted target and proxy.\"\"\"\n",
    "    pred = pred.ravel().reshape(-1, 1)\n",
    "    proxy = proxy.ravel().reshape(-1, 1)\n",
    "    # Scale and weight the cluster data\n",
    "    pred_scaler = RobustScaler().fit(pred)\n",
    "    pred_scaled = pred_weight * pred_scaler.transform(pred)\n",
    "    proxy_scaler = RobustScaler().fit(-1 * proxy)\n",
    "    proxy_scaled = proxy_weight * proxy_scaler.transform(-1 * proxy)\n",
    "\n",
    "    # combined cluster data\n",
    "    comb_data = pred_scaled + proxy_scaled\n",
    "    comb_scaler = RobustScaler().fit(comb_data)\n",
    "\n",
    "    # cluster scores range between 0 and 1\n",
    "    score = comb_scaler.transform(comb_data).ravel()\n",
    "    return score\n",
    "\n",
    "\n",
    "peak_score = weighted_score(val_pred, val_k_neigh_avg)\n",
    "dens_score = weighted_score(val_pred, val_dens)\n",
    "pd.DataFrame(dict(dens=dens_score, peak=peak_score)).sort_values(\n",
    "    by=\"dens\", ascending=False\n",
    ")"
   ]
  },
  {
   "cell_type": "code",
   "execution_count": null,
   "metadata": {},
   "outputs": [],
   "source": []
  }
 ],
 "metadata": {
  "colab": {
   "authorship_tag": "ABX9TyO/SktPz6EIMEhYxfRFY4XF",
   "collapsed_sections": [],
   "include_colab_link": true,
   "provenance": []
  },
  "kernelspec": {
   "display_name": "mat-discover",
   "language": "python",
   "name": "python3"
  },
  "language_info": {
   "codemirror_mode": {
    "name": "ipython",
    "version": 3
   },
   "file_extension": ".py",
   "mimetype": "text/x-python",
   "name": "python",
   "nbconvert_exporter": "python",
   "pygments_lexer": "ipython3",
   "version": "3.9.15"
  },
  "vscode": {
   "interpreter": {
    "hash": "0509125574399a8d70b73be9604ea56a31202b050edefb2af062324f249f285d"
   }
  }
 },
 "nbformat": 4,
 "nbformat_minor": 0
}
